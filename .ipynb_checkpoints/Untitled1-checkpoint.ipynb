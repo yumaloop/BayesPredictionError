{
 "cells": [
  {
   "cell_type": "code",
   "execution_count": 1,
   "metadata": {},
   "outputs": [],
   "source": [
    "import os\n",
    "import sys\n",
    "\n",
    "import numpy as np\n",
    "from scipy import stats\n",
    "import matplotlib.pyplot as plt\n",
    "%matplotlib inline"
   ]
  },
  {
   "cell_type": "code",
   "execution_count": 120,
   "metadata": {},
   "outputs": [],
   "source": [
    "class PriorMean():\n",
    "    def __init__(self, m=0.0, lam=1, beta=1):\n",
    "        self.m = m\n",
    "        self.lam = lam\n",
    "        self.beta = beta\n",
    "        \n",
    "    def pdf(self, x):\n",
    "        return stats.norm.pdf(x, loc=self.m, scale=1/(self.beta*self.lam))\n",
    "    \n",
    "    def rvs(self, size=100):\n",
    "        return stats.norm.rvs(loc=self.m, scale=1/(self.beta*self.lam), size=size)\n",
    "        \n",
    "\n",
    "class PriorPrecision():\n",
    "    def __init__(self, a=2, b=2):\n",
    "        self.a = a\n",
    "        self.b = b\n",
    "        \n",
    "    def pdf(self, x):\n",
    "        return stats.gamma.pdf(x, self.a, loc=0, scale=self.b)\n",
    "    \n",
    "    def rvs(self, size=100):\n",
    "        return stats.gamma.rvs(self.a, loc=0, scale=self.b, size=size)\n",
    "\n",
    "\n",
    "class PosteriorMean():\n",
    "    def __init__(self, data=None, m=None, lam=None, beta=None):\n",
    "        self.data = data\n",
    "        self.m = m\n",
    "        self.lam = lam\n",
    "        self.beta = beta\n",
    "        \n",
    "        self.N = len(data)\n",
    "        self.m_hat = (np.sum(data) + beta * m) / (beta + N)\n",
    "        self.beta_hat = beta + N\n",
    "        \n",
    "    def pdf(self, x):\n",
    "        return stats.norm.pdf(x, loc=self.m_hat, scale=1/(self.beta_hat*self.lam))\n",
    "    \n",
    "    def rvs(self, size=100):\n",
    "        return stats.norm.rvs(loc=self.m_hat, scale=1/(self.beta_hat*self.lam), size=size)\n",
    "\n",
    "\n",
    "class PosteriorPrecision():\n",
    "    def __init__(self, data=None, a=None, b=None):\n",
    "        self.data = data\n",
    "        self.a = a\n",
    "        self.b = b\n",
    "        \n",
    "        self.N = len(data)\n",
    "        self.a_hat = a + N / 2\n",
    "        self.b_hat = b + 0.5 * (np.sum(data ** 2) + beta * (m ** 2) - (1/(beta + N)) * (np.sum(data ** 2) + beta * m) ** 2)\n",
    "        \n",
    "    def pdf(self, x):\n",
    "        return stats.gamma.pdf(x, self.a_hat, loc=0, scale=self.b_hat)\n",
    "    \n",
    "    def rvs(self, size=100):\n",
    "        return stats.gamma.rvs(self.a_hat, loc=0, scale=self.b_hat, size=size)\n",
    "\n",
    "    \n",
    "class Likelihood():\n",
    "    def __init__(self, mu=0.0, lam=1.0):\n",
    "        self.mu = mu\n",
    "        self.lam = lam\n",
    "        \n",
    "    def pdf(self, x):\n",
    "        return stats.norm.pdf(x, loc=self.mu, scale=1/self.lam)\n",
    "    \n",
    "    def rvs(self, size=100):\n",
    "        return stats.norm.rvs(loc=self.mu, scale=1/self.lam, size=size)\n",
    "\n",
    "\n",
    "class PredDist():\n",
    "    def __init__(self, m=None, beta=None, a=None, b=None):\n",
    "        self.df = 2 * a # degree of freedom\n",
    "        self.loc = m\n",
    "        self.scale = beta / (beta+1) * (a/b)\n",
    "        \n",
    "    def pdf(self, x):\n",
    "        return stats.t.pdf(x, self.df, self.loc, self.scale)\n",
    "    \n",
    "    def rvs(self, size=100):\n",
    "        return stats.t.rvs(self.df, self.loc, self.scale, size=size)"
   ]
  },
  {
   "cell_type": "code",
   "execution_count": 121,
   "metadata": {},
   "outputs": [],
   "source": [
    "class TrueDist():\n",
    "    def __init__(self, mean=0.1, precision=1.4):\n",
    "        self.mean = mean\n",
    "        self.precision = precision\n",
    "        \n",
    "    def pdf(self, x):\n",
    "        return stats.norm.pdf(x, loc=self.mean, scale=1/self.precision)\n",
    "    \n",
    "    def rvs(self, size=100):\n",
    "        return stats.norm.rvs(loc=self.mean, scale=1/self.precision, size=size)"
   ]
  },
  {
   "cell_type": "code",
   "execution_count": null,
   "metadata": {},
   "outputs": [],
   "source": []
  },
  {
   "cell_type": "code",
   "execution_count": null,
   "metadata": {},
   "outputs": [],
   "source": []
  },
  {
   "cell_type": "code",
   "execution_count": 123,
   "metadata": {},
   "outputs": [
    {
     "name": "stdout",
     "output_type": "stream",
     "text": [
      "0.76649981630518 21.0 12.0 3.5900956860247106\n"
     ]
    },
    {
     "data": {
      "image/png": "[encoded data removed]",
      "text/plain": [
       "<Figure size 864x432 with 1 Axes>"
      ]
     },
     "metadata": {
      "needs_background": "light"
     },
     "output_type": "display_data"
    }
   ],
   "source": [
    "plt.figure(figsize=(12,6))\n",
    "\n",
    "\n",
    "# Data sample\n",
    "N = 20\n",
    "mean = 1\n",
    "precision = 1.4\n",
    "data = TrueDist(mean, precision).rvs(size=N)\n",
    "plt.scatter(data, np.zeros(len(data))-0.02, alpha=0.5, c=\"r\", label=\"data samples\")\n",
    "\n",
    "\n",
    "# True distribution\n",
    "s = TrueDist(mean, precision).rvs(size=100000)\n",
    "plt.hist(s, bins=100, density=True, alpha=0.25, color=\"gray\", label=\"true distribution\")\n",
    "\n",
    "\n",
    "# Prior of mean\n",
    "m = 0.\n",
    "lam = 0.5\n",
    "beta = 1.\n",
    "s = PriorMean(m=m, lam=lam, beta=beta).rvs(size=100000)\n",
    "plt.hist(s, bins=100, density=True, alpha=0.25, label=\"prior of mean\")\n",
    "\n",
    "# Prior of precision\n",
    "a = 2\n",
    "b = 2\n",
    "# s = PriorPrecision(a=a, b=b).rvs(size=100000)\n",
    "\n",
    "# Likelihood\n",
    "mu = 0.0\n",
    "lam = 1.0\n",
    "s = Likelihood(mu=mu, lam=lam).rvs(size=100000)\n",
    "plt.hist(s, bins=100, density=True, alpha=0.25, label=\"likelihood\")\n",
    "\n",
    "\n",
    "# Posterior of mean\n",
    "s = PosteriorMean(data=data, m=m, lam=lam, beta=beta).rvs(size=100000)\n",
    "plt.hist(s, bins=100, density=True, alpha=0.25, label=\"posterior of mean\")\n",
    "\n",
    "# Posterior of precision\n",
    "# s = PosteriorPrecision(data=data, a=a, b=b).rvs(size=100000)\n",
    "\n",
    "\n",
    "# Prediction \n",
    "m_hat=PosteriorMean(data=data, m=m, lam=lam, beta=beta).m_hat\n",
    "beta_hat=PosteriorMean(data=data, m=m, lam=lam, beta=beta).beta_hat\n",
    "a_hat=PosteriorPrecision(data=data, a=a, b=b).a_hat\n",
    "b_hat=PosteriorPrecision(data=data, a=b, b=b).b_hat\n",
    "\n",
    "print(m_hat, beta_hat, a_hat, b_hat)\n",
    "\n",
    "s = PredDist(m=m_hat, beta=beta_hat, a=a_hat, b=b_hat).rvs(size=100000)\n",
    "plt.hist(s, bins=100, density=True, alpha=0.25, label=\"predict\")\n",
    "\n",
    "\n",
    "plt.ylim([-0.05,1])\n",
    "plt.xlim([-4,4])\n",
    "plt.legend()\n",
    "plt.show()"
   ]
  },
  {
   "cell_type": "code",
   "execution_count": null,
   "metadata": {},
   "outputs": [],
   "source": []
  },
  {
   "cell_type": "markdown",
   "metadata": {},
   "source": [
    "# Example"
   ]
  },
  {
   "cell_type": "code",
   "execution_count": 115,
   "metadata": {},
   "outputs": [
    {
     "data": {
      "image/png": "[encoded data removed]",
      "text/plain": [
       "<Figure size 864x432 with 1 Axes>"
      ]
     },
     "metadata": {
      "needs_background": "light"
     },
     "output_type": "display_data"
    }
   ],
   "source": [
    "plt.figure(figsize=(12,6))\n",
    "\n",
    "\n",
    "# Data sample\n",
    "N = 10\n",
    "mean = 1\n",
    "precision = 1.4\n",
    "data = TrueDist(mean, precision).rvs(size=N)\n",
    "plt.scatter(data, np.zeros(len(data))-0.02, alpha=0.5, c=\"r\", label=\"data samples\")\n",
    "\n",
    "\n",
    "# True distribution\n",
    "s = TrueDist(mean, precision).rvs(size=100000)\n",
    "plt.hist(s, bins=100, density=True, alpha=0.25, color=\"gray\", label=\"true distribution\")\n",
    "\n",
    "plt.legend()\n",
    "plt.show()"
   ]
  },
  {
   "cell_type": "code",
   "execution_count": 132,
   "metadata": {},
   "outputs": [
    {
     "name": "stdout",
     "output_type": "stream",
     "text": [
      "0.018379953241390634 21.0 12.0 2.073961449253879\n",
      "0.049481564116342275 21.0 12.0 2.279894336796522\n",
      "0.1397911309174388 21.0 12.0 3.671665486211817\n",
      "0.1510865030645585 21.0 12.0 3.6885439353574947\n",
      "0.18202372688962984 21.0 12.0 3.8103542741686884\n",
      "0.20839507518046654 21.0 12.0 3.8935413186120513\n",
      "0.24518774744693136 21.0 12.0 4.042621535797309\n",
      "0.3108328780912531 21.0 12.0 4.404193887461832\n"
     ]
    },
    {
     "data": {
      "image/png": "[encoded data removed]",
      "text/plain": [
       "<Figure size 432x288 with 1 Axes>"
      ]
     },
     "metadata": {
      "needs_background": "light"
     },
     "output_type": "display_data"
    }
   ],
   "source": [
    "for i in range(1, 9):    \n",
    "    # Prior of mean\n",
    "    m = 0.\n",
    "    lam = 0.5\n",
    "    beta = 1.\n",
    "    prior_mean = PriorMean(m=m, lam=lam, beta=beta)\n",
    "\n",
    "    # Prior of precision\n",
    "    a = 2\n",
    "    b = 2\n",
    "    prior_precision = PriorPrecision(a=a, b=b)\n",
    "\n",
    "\n",
    "    # Likelihood\n",
    "    mu = 0.0\n",
    "    lam = 1.0\n",
    "    # s = Likelihood(mu=mu, lam=lam).rvs(size=100000)\n",
    "    # plt.hist(s, bins=100, density=True, alpha=0.25, label=\"likelihood\")\n",
    "\n",
    "    # Posterior of mean\n",
    "    posterior_mean = PosteriorMean(data=data[:i], m=m, lam=lam, beta=beta)\n",
    "\n",
    "    # Posterior of precision\n",
    "    posterior_precision = PosteriorPrecision(data=data[:i], a=b, b=b)\n",
    "\n",
    "\n",
    "\n",
    "    # Prediction \n",
    "    m_hat=posterior_mean.m_hat\n",
    "    beta_hat=posterior_mean.beta_hat\n",
    "    a_hat=posterior_precision.a_hat\n",
    "    b_hat=posterior_precision.b_hat\n",
    "\n",
    "    print(m_hat, beta_hat, a_hat, b_hat)\n",
    "\n",
    "    sx = np.arange(-4,4,0.01)\n",
    "    sy = [PredDist(m=m_hat, beta=beta_hat, a=a_hat, b=b_hat).pdf(x) for x in sx]\n",
    "    plt.plot(sx, sy, label=\"predict\"+str(i))\n",
    "    \n",
    "    plt.scatter(data[i], 0)\n",
    "\n",
    "plt.legend(loc=\"upper left\")\n",
    "plt.show()"
   ]
  },
  {
   "cell_type": "code",
   "execution_count": null,
   "metadata": {},
   "outputs": [],
   "source": []
  },
  {
   "cell_type": "code",
   "execution_count": null,
   "metadata": {},
   "outputs": [],
   "source": []
  },
  {
   "cell_type": "code",
   "execution_count": null,
   "metadata": {},
   "outputs": [],
   "source": []
  },
  {
   "cell_type": "code",
   "execution_count": null,
   "metadata": {},
   "outputs": [],
   "source": [
    "plt.figure(figsize=(12,6))\n",
    "\n",
    "\n",
    "\n",
    "# Prior of mean\n",
    "m = 0.\n",
    "lam = 0.5\n",
    "beta = 1.\n",
    "s = PriorMean(m=m, lam=lam, beta=beta).rvs(size=100000)\n",
    "plt.hist(s, bins=100, density=True, alpha=0.25, label=\"prior of mean\")\n",
    "\n",
    "# Prior of precision\n",
    "a = 2\n",
    "b = 2\n",
    "# s = PriorPrecision(a=a, b=b).rvs(size=100000)\n",
    "\n",
    "# Likelihood\n",
    "mu = 0.0\n",
    "lam = 1.0\n",
    "s = Likelihood(mu=mu, lam=lam).rvs(size=100000)\n",
    "plt.hist(s, bins=100, density=True, alpha=0.25, label=\"likelihood\")\n",
    "\n",
    "\n",
    "# Posterior of mean\n",
    "s = PosteriorMean(data=data, m=m, lam=lam, beta=beta).rvs(size=100000)\n",
    "plt.hist(s, bins=100, density=True, alpha=0.25, label=\"posterior of mean\")\n",
    "\n",
    "# Posterior of precision\n",
    "# s = PosteriorPrecision(data=data, a=a, b=b).rvs(size=100000)\n",
    "\n",
    "\n",
    "# Prediction \n",
    "m_hat=PosteriorMean(data=data, m=m, lam=lam, beta=beta).m_hat\n",
    "beta_hat=PosteriorMean(data=data, m=m, lam=lam, beta=beta).beta_hat\n",
    "a_hat=PosteriorPrecision(data=data, a=a, b=b).a_hat\n",
    "b_hat=PosteriorPrecision(data=data, a=b, b=b).b_hat\n",
    "\n",
    "s = PredDist(m=m_hat, beta=beta_hat, a=a_hat, b=b_hat).rvs(size=100000)\n",
    "plt.hist(s, bins=100, density=True, alpha=0.25, label=\"predict\")\n",
    "\n",
    "\n",
    "plt.ylim([-0.05,1])\n",
    "plt.xlim([-4,4])\n",
    "plt.legend()\n",
    "plt.show()"
   ]
  },
  {
   "cell_type": "code",
   "execution_count": null,
   "metadata": {},
   "outputs": [],
   "source": []
  },
  {
   "cell_type": "code",
   "execution_count": null,
   "metadata": {},
   "outputs": [],
   "source": []
  },
  {
   "cell_type": "code",
   "execution_count": null,
   "metadata": {},
   "outputs": [],
   "source": []
  },
  {
   "cell_type": "code",
   "execution_count": null,
   "metadata": {},
   "outputs": [],
   "source": []
  },
  {
   "cell_type": "code",
   "execution_count": 18,
   "metadata": {},
   "outputs": [],
   "source": [
    "def prior_mean(x, m=0.0, lam=1, beta=1):    \n",
    "    return stats.norm.pdf(x, loc=m, scale=1/(beta*lam))\n",
    "\n",
    "def prior_precision(x, a=2, b=2):\n",
    "    return scipy.stats.gamma.pdf(x, a, loc=0, scale=b)\n",
    "\n",
    "\n",
    "def posterior_mean(x, data=None, m=None, lam=None, beta=None):\n",
    "    N = len(data)\n",
    "    m_hat = (np.sum(data) + beta * m) / (beta + N)\n",
    "    beta_hat = beta + N\n",
    "    return stats.norm.pdf(x, loc=m_hat, scale=1/(beta_hat*lam))\n",
    "\n",
    "\n",
    "def posterior_precision(x, data=None, a=None, b=None):\n",
    "    N = len(data)\n",
    "    a_hat = a + N / 2\n",
    "    b_hat = b + 0.5 * (np.sum(data ** 2) + beta * (m ** 2) - (1/(beta + N)) * (np.sum(data ** 2) + beta * m) ** 2)\n",
    "    return stats.gamma.pdf(x, a_hat, loc=0, scale=b_hat)\n",
    "\n",
    "\n",
    "def likelihood(x, mu=0.0, lam=1.0):\n",
    "    return stats.norm.pdf(x, loc=mu, scale=1/lam)\n",
    "\n",
    "\n",
    "def pred_dist(x, m=None, beta=None, a=None, b=None):\n",
    "    df = 2 * a # degree of freedom\n",
    "    loc = m\n",
    "    scale = (beta/(beta + 1)) * (a/b)\n",
    "    return stats.t.pdf(x, df, loc, scale)\n"
   ]
  },
  {
   "cell_type": "code",
   "execution_count": 3,
   "metadata": {},
   "outputs": [],
   "source": [
    "def true_dist(x):\n",
    "    return stats.norm.pdf(x, loc=0.01, scale=1.4)"
   ]
  },
  {
   "cell_type": "code",
   "execution_count": null,
   "metadata": {},
   "outputs": [],
   "source": []
  },
  {
   "cell_type": "code",
   "execution_count": null,
   "metadata": {},
   "outputs": [],
   "source": []
  },
  {
   "cell_type": "code",
   "execution_count": 4,
   "metadata": {},
   "outputs": [
    {
     "data": {
      "text/plain": [
       "(50,)"
      ]
     },
     "execution_count": 4,
     "metadata": {},
     "output_type": "execute_result"
    }
   ],
   "source": [
    "N = 50\n",
    "data = stats.norm.rvs(loc=0.01, scale=1.4, size=N)\n",
    "data.shape"
   ]
  },
  {
   "cell_type": "code",
   "execution_count": 5,
   "metadata": {},
   "outputs": [
    {
     "data": {
      "image/png": "[encoded data removed]",
      "text/plain": [
       "<Figure size 864x432 with 1 Axes>"
      ]
     },
     "metadata": {
      "needs_background": "light"
     },
     "output_type": "display_data"
    }
   ],
   "source": [
    "s = stats.norm.rvs(loc=0.01, scale=1.4, size=100000)\n",
    "\n",
    "plt.figure(figsize=(12,6))\n",
    "plt.hist(s, bins=100, density=True, alpha=0.25, label=\"true distribution\")\n",
    "plt.scatter(data, np.zeros(len(data))-0.01, alpha=0.5, c=\"r\")\n",
    "plt.legend()\n",
    "plt.show()"
   ]
  },
  {
   "cell_type": "code",
   "execution_count": 19,
   "metadata": {},
   "outputs": [
    {
     "data": {
      "image/png": "[encoded data removed]",
      "text/plain": [
       "<Figure size 864x432 with 1 Axes>"
      ]
     },
     "metadata": {
      "needs_background": "light"
     },
     "output_type": "display_data"
    }
   ],
   "source": [
    "plt.figure(figsize=(12,6))\n",
    "\n",
    "# True distribution\n",
    "sx = np.arange(-6, 6, 0.1)\n",
    "sy = [true_dist(sxi) for sxi in sx]\n",
    "plt.plot(sx, sy, label=\"true distribution\")\n",
    "\n",
    "# Prior of mean\n",
    "m=0.\n",
    "lam=1.\n",
    "beta=1.\n",
    "sy = [prior_mean(sxi, m=m, lam=lam, beta=beta) for sxi in sx]\n",
    "plt.plot(sx, sy, label=\"prior of mean\")\n",
    "\n",
    "# Prior of lambda\n",
    "\n",
    "\n",
    "# Posterior of mean\n",
    "\n",
    "sy = [posterior_mean(sxi, data=data, m=m, lam=lam, beta=beta) for sxi in sx]\n",
    "plt.plot(sx, sy, label=\"posterior of mean\")\n",
    "\n",
    "# Data sample\n",
    "plt.scatter(data, np.zeros(len(data))-0.01, alpha=0.5, c=\"r\", label=\"data sample\")\n",
    "\n",
    "plt.legend()\n",
    "plt.show()"
   ]
  },
  {
   "cell_type": "code",
   "execution_count": null,
   "metadata": {},
   "outputs": [],
   "source": []
  },
  {
   "cell_type": "code",
   "execution_count": null,
   "metadata": {},
   "outputs": [],
   "source": []
  },
  {
   "cell_type": "code",
   "execution_count": null,
   "metadata": {},
   "outputs": [],
   "source": []
  },
  {
   "cell_type": "code",
   "execution_count": null,
   "metadata": {},
   "outputs": [],
   "source": []
  },
  {
   "cell_type": "code",
   "execution_count": null,
   "metadata": {},
   "outputs": [],
   "source": []
  },
  {
   "cell_type": "code",
   "execution_count": null,
   "metadata": {},
   "outputs": [],
   "source": []
  }
 ],
 "metadata": {
  "kernelspec": {
   "display_name": "Python 3",
   "language": "python",
   "name": "python3"
  },
  "language_info": {
   "codemirror_mode": {
    "name": "ipython",
    "version": 3
   },
   "file_extension": ".py",
   "mimetype": "text/x-python",
   "name": "python",
   "nbconvert_exporter": "python",
   "pygments_lexer": "ipython3",
   "version": "3.7.4"
  }
 },
 "nbformat": 4,
 "nbformat_minor": 2
}
